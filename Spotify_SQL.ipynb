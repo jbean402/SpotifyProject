{
 "cells": [
  {
   "cell_type": "code",
   "execution_count": 1,
   "metadata": {},
   "outputs": [],
   "source": [
    "import sqlite3\n",
    "import pandas as pd\n",
    "import numpy as np"
   ]
  },
  {
   "cell_type": "code",
   "execution_count": 4,
   "metadata": {},
   "outputs": [],
   "source": [
    "class DatabaseHandler:\n",
    "    @staticmethod\n",
    "    def create_database():\n",
    "        conn = sqlite3.connect('country_data.db')\n",
    "        conn.close()\n",
    "    \n",
    "\n",
    "    @staticmethod\n",
    "    def create_table():\n",
    "        conn = sqlite3.connect('country_data.db')\n",
    "        c = conn.cursor()\n",
    "        #create a table with the country, artist, their song, and their rank in that country\n",
    "        c.execute('''CREATE TABLE IF NOT EXISTS songs (\n",
    "                    country TEXT,\n",
    "                    artist_name TEXT,\n",
    "                    song_name TEXT,\n",
    "                    rank INTEGER)''')\n",
    "        conn.commit()\n",
    "        conn.close()\n",
    "\n",
    "    @staticmethod\n",
    "    def insert_data(country, artist_name, song_name, rank):\n",
    "        conn = sqlite3.connect('country_data.db')\n",
    "        c = conn.cursor()\n",
    "        #insert country and artist info into the database\n",
    "        c.execute(\"INSERT INTO songs (country, rank, song_name, artist_name) VALUES (?, ?, ?, ?)\", (country, artist_name, song_name, rank))\n",
    "        conn.commit()\n",
    "        conn.close()\n",
    "\n",
    "    def populate_db(df = pd.read_csv('country_charts.csv')):\n",
    "        DatabaseHandler.create_database()\n",
    "        DatabaseHandler.create_table()\n",
    "\n",
    "        for index, row in df.iterrows():\n",
    "            DatabaseHandler.insert_data(row['country'], row['artist_name'], row['song_title'], row['Pos'])\n",
    "\n",
    "    #function to find songs that are unique to that country\n",
    "    def find_unique_songs(country):\n",
    "        conn = sqlite3.connect('country_data.db')\n",
    "        c = conn.cursor()\n",
    "\n",
    "        c.execute(\"SELECT DISTINCT song_name FROM songs WHERE country=?\", (country,))\n",
    "        unique_songs = c.fetchall()\n",
    "        conn.close()\n",
    "        return unique_songs\n",
    "\n",
    "DatabaseHandler.populate_db()\n"
   ]
  }
 ],
 "metadata": {
  "kernelspec": {
   "display_name": "Python 3",
   "language": "python",
   "name": "python3"
  },
  "language_info": {
   "codemirror_mode": {
    "name": "ipython",
    "version": 3
   },
   "file_extension": ".py",
   "mimetype": "text/x-python",
   "name": "python",
   "nbconvert_exporter": "python",
   "pygments_lexer": "ipython3",
   "version": "3.11.2"
  },
  "orig_nbformat": 4,
  "vscode": {
   "interpreter": {
    "hash": "aee8b7b246df8f9039afb4144a1f6fd8d2ca17a180786b69acc140d282b71a49"
   }
  }
 },
 "nbformat": 4,
 "nbformat_minor": 2
}
