{
 "cells": [
  {
   "cell_type": "code",
   "execution_count": 2,
   "metadata": {},
   "outputs": [],
   "source": [
    "import sqlite3\n",
    "import pandas as pd\n",
    "import numpy as np"
   ]
  },
  {
   "cell_type": "code",
   "execution_count": 14,
   "metadata": {},
   "outputs": [],
   "source": [
    "class DatabaseHandler:\n",
    "    @staticmethod\n",
    "    def create_database():\n",
    "        conn = sqlite3.connect('country_data.db') #creates and connects to country_data.db database\n",
    "        conn.close()\n",
    "    \n",
    "\n",
    "    @staticmethod\n",
    "    def create_table():\n",
    "        conn = sqlite3.connect('country_data.db')\n",
    "        c = conn.cursor()\n",
    "        #create a table called 'songs' with the country, artist, their song, and its rank in that country\n",
    "        c.execute('''CREATE TABLE IF NOT EXISTS songs (\n",
    "                    country TEXT,\n",
    "                    artist_name TEXT,\n",
    "                    song_name TEXT,\n",
    "                    rank INTEGER)''')\n",
    "        conn.commit()\n",
    "        conn.close()\n",
    "\n",
    "    @staticmethod\n",
    "    def insert_data(country, artist_name, song_name, rank):\n",
    "        conn = sqlite3.connect('country_data.db')\n",
    "        c = conn.cursor()\n",
    "        #insert country, artist, and song info into the database\n",
    "        c.execute(\"INSERT INTO songs (country, rank, song_name, artist_name) VALUES (?, ?, ?, ?)\", (country, artist_name, song_name, rank))\n",
    "        conn.commit()\n",
    "        conn.close()\n",
    "\n",
    "\n",
    "    def populate_db(df = pd.read_csv('country_charts.csv')):\n",
    "        #These two functions below are called to create the database and table in order to populate that db and table\n",
    "        DatabaseHandler.create_database()  \n",
    "        DatabaseHandler.create_table()\n",
    "\n",
    "        #iterate through pd df and call insert_data function to populate the database\n",
    "        for index, row in df.iterrows():\n",
    "            DatabaseHandler.insert_data(row['country'], row['artist_name'], row['song_title'], row['Pos'])\n",
    "\n",
    "\n",
    "    #function to find songs that are unique to that country\n",
    "    def find_unique_songs(country):\n",
    "        conn = sqlite3.connect('country_data.db')\n",
    "        c = conn.cursor()\n",
    "\n",
    "        #SQL query that finds distinct song_name from the inputted country\n",
    "        c.execute(\"\"\"\n",
    "        SELECT DISTINCT song_name \n",
    "        FROM songs \n",
    "        WHERE country = ? \n",
    "        AND song_name NOT IN (\n",
    "            SELECT song_name FROM songs WHERE country != ?\n",
    "        )\n",
    "    \"\"\", (country, country))\n",
    "        \n",
    "        \n",
    "        unique_songs = c.fetchall()\n",
    "        conn.close()\n",
    "        return unique_songs\n",
    "\n",
    "\n",
    "    def find_shared_songs():\n",
    "        conn = sqlite3.connect('country_data.db')\n",
    "        c = conn.cursor()\n",
    "\n",
    "        c.execute()\n",
    "        shared_songs = None\n",
    "        return shared_songs"
   ]
  },
  {
   "cell_type": "code",
   "execution_count": 16,
   "metadata": {},
   "outputs": [],
   "source": [
    "DatabaseHandler.populate_db()"
   ]
  },
  {
   "cell_type": "code",
   "execution_count": 21,
   "metadata": {},
   "outputs": [],
   "source": [
    "@staticmethod\n",
    "def get_all_country_unique_songs():\n",
    "    conn = sqlite3.connect('country_data.db')\n",
    "    c = conn.cursor()\n",
    "    \n",
    "    # getting list of all countries in top charts list\n",
    "    c.execute(\"SELECT DISTINCT country FROM songs\")\n",
    "    countries = c.fetchall()\n",
    "    \n",
    "    # initialize an empty \n",
    "    top_songs_by_country = {}\n",
    "\n",
    "    for country in countries:\n",
    "        country_name = country[0]\n",
    "        \n",
    "        # Retrieve the top songs for the current country\n",
    "        c.execute(\"SELECT song_name FROM songs WHERE country=? ORDER BY rank ASC\", (country_name,))\n",
    "        top_songs = c.fetchall()\n",
    "        \n",
    "        # Store the top songs in the dictionary\n",
    "        top_songs_by_country[country_name] = [song[0] for song in top_songs]\n",
    "\n",
    "    conn.close()\n",
    "    return top_songs_by_country"
   ]
  },
  {
   "attachments": {},
   "cell_type": "markdown",
   "metadata": {},
   "source": [
    "# Country Similarity function pseudocode\n",
    "\n",
    "    Get all country's unique songs\n",
    "    Make new dictionary of all country names as the key where the values will be the number of songs from the user in the country's top charts\n",
    "\n",
    "    For each song in user's top songs:\n",
    "        identify if that song is in any country's unique top charts\n",
    "        if so: \n",
    "            Add 1 to the dictionary with that country name\n",
    "        else:\n",
    "            move on to next song\n",
    "        \n",
    "    Return country of max(# of songs in the dictionary)"
   ]
  }
 ],
 "metadata": {
  "kernelspec": {
   "display_name": "Python 3",
   "language": "python",
   "name": "python3"
  },
  "language_info": {
   "codemirror_mode": {
    "name": "ipython",
    "version": 3
   },
   "file_extension": ".py",
   "mimetype": "text/x-python",
   "name": "python",
   "nbconvert_exporter": "python",
   "pygments_lexer": "ipython3",
   "version": "3.11.2"
  },
  "orig_nbformat": 4,
  "vscode": {
   "interpreter": {
    "hash": "aee8b7b246df8f9039afb4144a1f6fd8d2ca17a180786b69acc140d282b71a49"
   }
  }
 },
 "nbformat": 4,
 "nbformat_minor": 2
}
