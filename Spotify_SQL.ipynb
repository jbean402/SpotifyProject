{
 "cells": [
  {
   "cell_type": "code",
   "execution_count": 3,
   "metadata": {},
   "outputs": [],
   "source": [
    "import sqlite3"
   ]
  },
  {
   "cell_type": "code",
   "execution_count": 5,
   "metadata": {},
   "outputs": [],
   "source": [
    "class DatabaseHandler:\n",
    "    @staticmethod\n",
    "    def create_database():\n",
    "        conn = sqlite3.connect('scraped_data.db')\n",
    "        conn.close()\n",
    "    \n",
    "\n",
    "    @staticmethod\n",
    "    def create_table():\n",
    "        conn = sqlite3.connect('scraped_data.db')\n",
    "        c = conn.cursor()\n",
    "        #create a table with the country, artist, their song, and their rank in that country\n",
    "        c.execute('''CREATE TABLE IF NOT EXISTS songs (\n",
    "                    country TEXT,\n",
    "                    artist_name TEXT,\n",
    "                    song_name TEXT,\n",
    "                    rank INTEGER)''')\n",
    "        conn.commit()\n",
    "        conn.close()\n",
    "\n",
    "    @staticmethod\n",
    "    def insert_data(country, artist_name, song_name, rank):\n",
    "        conn = sqlite3.connect('scraped_data.db')\n",
    "        c = conn.cursor()\n",
    "        #insert country and artist info into the database\n",
    "        c.execute(\"INSERT INTO songs (country, rank, song_name, artist_name) VALUES (?, ?, ?, ?)\", (country, artist_name, song_name, rank))\n",
    "        conn.commit()\n",
    "        conn.close()"
   ]
  }
 ],
 "metadata": {
  "kernelspec": {
   "display_name": "Python 3",
   "language": "python",
   "name": "python3"
  },
  "language_info": {
   "codemirror_mode": {
    "name": "ipython",
    "version": 3
   },
   "file_extension": ".py",
   "mimetype": "text/x-python",
   "name": "python",
   "nbconvert_exporter": "python",
   "pygments_lexer": "ipython3",
   "version": "3.11.2"
  },
  "orig_nbformat": 4,
  "vscode": {
   "interpreter": {
    "hash": "aee8b7b246df8f9039afb4144a1f6fd8d2ca17a180786b69acc140d282b71a49"
   }
  }
 },
 "nbformat": 4,
 "nbformat_minor": 2
}
