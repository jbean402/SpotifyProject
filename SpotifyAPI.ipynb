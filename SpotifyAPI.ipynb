{
 "cells": [
  {
   "cell_type": "code",
   "execution_count": 1,
   "id": "ed410ea7-5872-4b49-8c81-be2f94dc974c",
   "metadata": {},
   "outputs": [],
   "source": [
    "import requests\n",
    "import urllib.parse\n",
    "\n",
    "from datetime import datetime, timedelta\n",
    "from flask import Flask, redirect"
   ]
  },
  {
   "cell_type": "code",
   "execution_count": 2,
   "id": "e19ce845-46be-4345-9273-498bf30117ba",
   "metadata": {},
   "outputs": [],
   "source": [
    "# creating a key for flask \n",
    "app = Flask(__name__)\n",
    "app.secret_key = 'password' "
   ]
  },
  {
   "cell_type": "code",
   "execution_count": 3,
   "id": "80a1aabe-4c52-4b72-8a49-7541639c02a7",
   "metadata": {},
   "outputs": [],
   "source": [
    "# Key access information \n",
    "\n",
    "CLIENT_ID = '4db82491748043009a9d79b9a2d6739d' \n",
    "CLIENT_SECRET = '890096722afc4bf4ae030f8ddaea6830' \n",
    "REDIRECT_URI = 'http://localhost:5000/callback'\n",
    "\n",
    "AUTH_URL = 'https://accounts.spotify.com/authorize'\n",
    "TOKEN_URL = 'https://accounts.spotify.com/api/token'\n",
    "API_BASE_URL = 'https://spi.spotify.com/v1'"
   ]
  },
  {
   "cell_type": "code",
   "execution_count": 4,
   "id": "d417a162-f94f-4cc1-bbee-6898c5936824",
   "metadata": {},
   "outputs": [],
   "source": [
    "@app.route('/')\n",
    "def index(): \n",
    "    return \"Welcome to my Spotify App <a href='/login'>Login with Spotify</a>\"\n",
    "\n",
    "# redirecting into spotify's webpage \n",
    "@app.route('/login')\n",
    "def login(): \n",
    "    scope = 'user-read-private user-read-email'\n",
    "    \n",
    "    # creating the parameters\n",
    "    params = {\n",
    "        'client_id': CLIENT_ID, \n",
    "        'response_type': 'code', \n",
    "        'scope': scope, \n",
    "        'redirect_uri': REDIRECT_URI, \n",
    "        'show_dialog': True \n",
    "      \n",
    "        # If it is false, then it means that the user does not need to log in again. \n",
    "        # True: Testing the user to keep logging in -- for testing locally purposes \n",
    "        \n",
    "    }\n",
    "    \n",
    "    auth_url = f\"{AUTH_URL}?{urllib.parse.urlencode(params)}\" \n",
    "    \n",
    "    return redirect(auth_url)"
   ]
  },
  {
   "cell_type": "code",
   "execution_count": 8,
   "id": "959b4c8f-9db7-473b-8c9e-004dd0a82f4d",
   "metadata": {},
   "outputs": [],
   "source": [
    "# writing for the callback endpoint \n",
    "@app.route('/callback')\n",
    "def callback(): \n",
    "    # if there is an error, makes sure that there is no \n",
    "    if 'error' in request.args: \n",
    "        return jsonify({\"error\": request.args['error']}) \n",
    "    \n",
    "    if 'code' in request.args: \n",
    "        # building up a request body with data to send to spotify \n",
    "        req_body = {\n",
    "            'code': request.args['code'],\n",
    "            'grant_type': 'authorization_code', \n",
    "            'redirect_uri': REDIRECT_URI, \n",
    "            'client_id': CLIENT_ID, \n",
    "            'client_secret': CLIENT_SECRET\n",
    "        }\n",
    "        \n",
    "        response = requests.post(TOKEN_URL, data=req_body) \n",
    "        token_info = response.json() # token info typically comes back in as a json object\n",
    "        \n",
    "        session['access_token'] = token_info['access_token'] # after one day, this token will go away \n",
    "        session['refresh_token'] = token_info['refresh_token'] # only lasts for one day \n",
    "        session['expires_at'] = datetime.now().timestamp() + token_info['expires_in'] # getting the current datetime and turning it into a timestamp \n",
    "        \n",
    "        return redirect('/playlist') "
   ]
  },
  {
   "cell_type": "code",
   "execution_count": 9,
   "id": "5f4c39cb-507e-4861-bc0d-b12639c508cb",
   "metadata": {},
   "outputs": [],
   "source": [
    "@app.route('/playlists')\n",
    "def get_playlists(): \n",
    "    if 'access_token' not in session: \n",
    "        return redirect('/login')\n",
    "    \n",
    "    # making sure that the access token has not expired yet \n",
    "    if datetime.now().timestamp() > session['expires_at']: \n",
    "        return redirect('/refresh-token') # if the access token has expired, then it will access a new refresh token in the background\n",
    "    \n",
    "    headers = {\n",
    "        'Authorization': f\"Bearer {session['access_token']}\" \n",
    "        \n",
    "    }\n",
    "    \n",
    "    #storing the result of making a request\n",
    "    response = requests.get(API_BASE_URL + 'me/playlists', headers=headers) \n",
    "    playlists = response.json()\n",
    "    \n",
    "    return jsonify(playlists) # returning playlists back to the user "
   ]
  },
  {
   "cell_type": "code",
   "execution_count": 10,
   "id": "c7d236cf-c9b1-4494-a12f-e340b3fde6f5",
   "metadata": {},
   "outputs": [],
   "source": [
    "# refreshing the token \n",
    "@app.route('/refresh-token') \n",
    "def refresh_token(): \n",
    "    if 'refresh_token' not in session: \n",
    "        return redirect('/login') \n",
    "    \n",
    "    if datetime.now().timestamp() > session['expires_at']: \n",
    "        req_body = {\n",
    "            'grant_type': 'refresh_token', \n",
    "            'refresh_token': session['refresh_token'], \n",
    "            'client_id': CLIENT_ID, \n",
    "            'client_secret': CLIENT_SECRET\n",
    "        }\n",
    "        \n",
    "        response = requests.post(TOKEN_URL, data=req_body) \n",
    "        new_token_info = response.json()\n",
    "        \n",
    "        session['access_token'] = new_token_info['access_token'] \n",
    "        session['expires_at'] = datetime.now().timestamp() + token_info['expires_in'] \n",
    "        \n",
    "        return redirect('/playlists') \n"
   ]
  },
  {
   "cell_type": "code",
   "execution_count": 13,
   "id": "cfb26bce-7892-4340-8367-0a4f0bff9f19",
   "metadata": {},
   "outputs": [
    {
     "name": "stdout",
     "output_type": "stream",
     "text": [
      " * Serving Flask app \"__main__\" (lazy loading)\n",
      " * Environment: production\n",
      "\u001b[31m   WARNING: This is a development server. Do not use it in a production deployment.\u001b[0m\n",
      "\u001b[2m   Use a production WSGI server instead.\u001b[0m\n",
      " * Debug mode: on\n"
     ]
    },
    {
     "ename": "OSError",
     "evalue": "[Errno 48] Address already in use",
     "output_type": "error",
     "traceback": [
      "\u001b[0;31m---------------------------------------------------------------------------\u001b[0m",
      "\u001b[0;31mOSError\u001b[0m                                   Traceback (most recent call last)",
      "Input \u001b[0;32mIn [13]\u001b[0m, in \u001b[0;36m<cell line: 1>\u001b[0;34m()\u001b[0m\n\u001b[1;32m      1\u001b[0m \u001b[38;5;28;01mif\u001b[39;00m \u001b[38;5;18m__name__\u001b[39m \u001b[38;5;241m==\u001b[39m \u001b[38;5;124m'\u001b[39m\u001b[38;5;124m__main__\u001b[39m\u001b[38;5;124m'\u001b[39m:\n\u001b[0;32m----> 2\u001b[0m     \u001b[43mapp\u001b[49m\u001b[38;5;241;43m.\u001b[39;49m\u001b[43mrun\u001b[49m\u001b[43m(\u001b[49m\u001b[43mdebug\u001b[49m\u001b[38;5;241;43m=\u001b[39;49m\u001b[38;5;28;43;01mTrue\u001b[39;49;00m\u001b[43m)\u001b[49m\n",
      "File \u001b[0;32m~/opt/anaconda3/lib/python3.9/site-packages/flask/app.py:990\u001b[0m, in \u001b[0;36mFlask.run\u001b[0;34m(self, host, port, debug, load_dotenv, **options)\u001b[0m\n\u001b[1;32m    987\u001b[0m \u001b[38;5;28;01mfrom\u001b[39;00m \u001b[38;5;21;01mwerkzeug\u001b[39;00m\u001b[38;5;21;01m.\u001b[39;00m\u001b[38;5;21;01mserving\u001b[39;00m \u001b[38;5;28;01mimport\u001b[39;00m run_simple\n\u001b[1;32m    989\u001b[0m \u001b[38;5;28;01mtry\u001b[39;00m:\n\u001b[0;32m--> 990\u001b[0m     \u001b[43mrun_simple\u001b[49m\u001b[43m(\u001b[49m\u001b[43mhost\u001b[49m\u001b[43m,\u001b[49m\u001b[43m \u001b[49m\u001b[43mport\u001b[49m\u001b[43m,\u001b[49m\u001b[43m \u001b[49m\u001b[38;5;28;43mself\u001b[39;49m\u001b[43m,\u001b[49m\u001b[43m \u001b[49m\u001b[38;5;241;43m*\u001b[39;49m\u001b[38;5;241;43m*\u001b[39;49m\u001b[43moptions\u001b[49m\u001b[43m)\u001b[49m\n\u001b[1;32m    991\u001b[0m \u001b[38;5;28;01mfinally\u001b[39;00m:\n\u001b[1;32m    992\u001b[0m     \u001b[38;5;66;03m# reset the first request information if the development server\u001b[39;00m\n\u001b[1;32m    993\u001b[0m     \u001b[38;5;66;03m# reset normally.  This makes it possible to restart the server\u001b[39;00m\n\u001b[1;32m    994\u001b[0m     \u001b[38;5;66;03m# without reloader and that stuff from an interactive shell.\u001b[39;00m\n\u001b[1;32m    995\u001b[0m     \u001b[38;5;28mself\u001b[39m\u001b[38;5;241m.\u001b[39m_got_first_request \u001b[38;5;241m=\u001b[39m \u001b[38;5;28;01mFalse\u001b[39;00m\n",
      "File \u001b[0;32m~/opt/anaconda3/lib/python3.9/site-packages/werkzeug/serving.py:991\u001b[0m, in \u001b[0;36mrun_simple\u001b[0;34m(hostname, port, application, use_reloader, use_debugger, use_evalex, extra_files, exclude_patterns, reloader_interval, reloader_type, threaded, processes, request_handler, static_files, passthrough_errors, ssl_context)\u001b[0m\n\u001b[1;32m    989\u001b[0m s \u001b[38;5;241m=\u001b[39m socket\u001b[38;5;241m.\u001b[39msocket(address_family, socket\u001b[38;5;241m.\u001b[39mSOCK_STREAM)\n\u001b[1;32m    990\u001b[0m s\u001b[38;5;241m.\u001b[39msetsockopt(socket\u001b[38;5;241m.\u001b[39mSOL_SOCKET, socket\u001b[38;5;241m.\u001b[39mSO_REUSEADDR, \u001b[38;5;241m1\u001b[39m)\n\u001b[0;32m--> 991\u001b[0m \u001b[43ms\u001b[49m\u001b[38;5;241;43m.\u001b[39;49m\u001b[43mbind\u001b[49m\u001b[43m(\u001b[49m\u001b[43mserver_address\u001b[49m\u001b[43m)\u001b[49m\n\u001b[1;32m    992\u001b[0m s\u001b[38;5;241m.\u001b[39mset_inheritable(\u001b[38;5;28;01mTrue\u001b[39;00m)\n\u001b[1;32m    994\u001b[0m \u001b[38;5;66;03m# If we can open the socket by file descriptor, then we can just\u001b[39;00m\n\u001b[1;32m    995\u001b[0m \u001b[38;5;66;03m# reuse this one and our socket will survive the restarts.\u001b[39;00m\n",
      "\u001b[0;31mOSError\u001b[0m: [Errno 48] Address already in use"
     ]
    }
   ],
   "source": [
    "if __name__ == '__main__':\n",
    "    app.run(debug=True)"
   ]
  }
 ],
 "metadata": {
  "kernelspec": {
   "display_name": "Python 3 (ipykernel)",
   "language": "python",
   "name": "python3"
  },
  "language_info": {
   "codemirror_mode": {
    "name": "ipython",
    "version": 3
   },
   "file_extension": ".py",
   "mimetype": "text/x-python",
   "name": "python",
   "nbconvert_exporter": "python",
   "pygments_lexer": "ipython3",
   "version": "3.9.12"
  }
 },
 "nbformat": 4,
 "nbformat_minor": 5
}
